{
 "cells": [
  {
   "cell_type": "code",
   "execution_count": 6,
   "metadata": {},
   "outputs": [
    {
     "data": {
      "application/javascript": "\n// assign variable\nvar hello = \"Hello World\":\nconsole.log(\"variable: hello\")\nconsole.log(hello)\n\n//seeing the type of this data\nconsole.log(\"variable: hello world check typeof\")\nconsole.log(typeof hello)\n\n//add strings together\nconsole.log(\"stringconcatenation: hello + \"Pranav\")\nconsole.log(hello + \"Pranav\")\n",
      "text/plain": [
       "<IPython.core.display.Javascript object>"
      ]
     },
     "metadata": {},
     "output_type": "display_data"
    }
   ],
   "source": [
    "%%js\n",
    "\n",
    "// assign variable\n",
    "var hello = \"Hello World\":\n",
    "console.log(\"variable: hello\")\n",
    "console.log(hello)\n",
    "\n",
    "//seeing the type of this data\n",
    "console.log(\"variable: hello world check typeof\")\n",
    "console.log(typeof hello)\n",
    "\n",
    "//add strings together\n",
    "console.log(\"stringconcatenation: hello + \"Pranav\")\n",
    "console.log(hello + \"Pranav\")"
   ]
  },
  {
   "cell_type": "code",
   "execution_count": null,
   "metadata": {},
   "outputs": [],
   "source": [
    "%%js\n",
    "\n",
    "// assign variable\n",
    "var hello = 1"
   ]
  }
 ],
 "metadata": {
  "kernelspec": {
   "display_name": "Python 3",
   "language": "python",
   "name": "python3"
  },
  "language_info": {
   "codemirror_mode": {
    "name": "ipython",
    "version": 3
   },
   "file_extension": ".py",
   "mimetype": "text/x-python",
   "name": "python",
   "nbconvert_exporter": "python",
   "pygments_lexer": "ipython3",
   "version": "3.10.12"
  }
 },
 "nbformat": 4,
 "nbformat_minor": 2
}
